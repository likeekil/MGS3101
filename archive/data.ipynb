{
 "cells": [
  {
   "cell_type": "code",
   "execution_count": null,
   "metadata": {},
   "outputs": [],
   "source": [
    "import os\n",
    "import math\n",
    "import sys\n",
    "import numpy as np\n",
    "import pandas as pd\n",
    "import matplotlib.pyplot as plt\n",
    "import seaborn as sns\n",
    "df = pd.read_csv('features.csv')\n",
    "df"
   ]
  },
  {
   "cell_type": "code",
   "execution_count": null,
   "metadata": {},
   "outputs": [],
   "source": [
    "df.columns"
   ]
  },
  {
   "cell_type": "code",
   "execution_count": null,
   "metadata": {},
   "outputs": [],
   "source": [
    "df.info()"
   ]
  },
  {
   "cell_type": "code",
   "execution_count": null,
   "metadata": {},
   "outputs": [],
   "source": [
    "df.describe\n"
   ]
  },
  {
   "cell_type": "code",
   "execution_count": null,
   "metadata": {},
   "outputs": [],
   "source": [
    "sns.set(style=\"whitegrid\")\n",
    "\n",
    "# Plot histograms for numerical variables\n",
    "df.hist(bins=30, figsize=(15, 14))\n",
    "plt.suptitle('Histograms of Numerical Variables', fontsize=20)\n",
    "plt.show()"
   ]
  },
  {
   "cell_type": "code",
   "execution_count": null,
   "metadata": {},
   "outputs": [],
   "source": [
    "df.groupby('IsHoliday').size().plot(kind='pie', autopct='%.2f')"
   ]
  },
  {
   "cell_type": "markdown",
   "metadata": {},
   "source": [
    "Unemployment rate v/s time"
   ]
  },
  {
   "cell_type": "code",
   "execution_count": null,
   "metadata": {},
   "outputs": [],
   "source": [
    "df['Date'] = pd.to_datetime(df['Date'])  \n",
    "\n",
    "df_grouped = df.groupby('Date')['Unemployment'].mean().reset_index()\n",
    "\n",
    "plt.figure(figsize=(12, 6))\n",
    "plt.plot(df_grouped['Date'], df_grouped['Unemployment'], marker='o', linestyle='-')\n",
    "\n",
    "\n",
    "plt.title('Unemployment Rate Over Time')\n",
    "plt.xlabel('Date')\n",
    "plt.ylabel('Unemployment Rate (%)')\n",
    "\n",
    "plt.grid(True)\n",
    "plt.show()\n"
   ]
  },
  {
   "cell_type": "markdown",
   "metadata": {},
   "source": [
    "CPI Index v/s time"
   ]
  },
  {
   "cell_type": "code",
   "execution_count": null,
   "metadata": {},
   "outputs": [],
   "source": [
    "df_grouped_cpi = df.groupby('Date')['CPI'].mean().reset_index()\n",
    "\n",
    "# Plotting the data\n",
    "plt.figure(figsize=(12, 6))\n",
    "plt.plot(df_grouped_cpi['Date'], df_grouped_cpi['CPI'], marker='o', linestyle='-')\n",
    "\n",
    "# Adding titles and labels\n",
    "plt.title('Consumer Price Index (CPI) Over Time')\n",
    "plt.xlabel('Date')\n",
    "plt.ylabel('CPI')\n",
    "\n",
    "# Show plot\n",
    "plt.grid(True)\n",
    "plt.show()"
   ]
  },
  {
   "cell_type": "markdown",
   "metadata": {},
   "source": [
    "Fuel Price v/s time"
   ]
  },
  {
   "cell_type": "code",
   "execution_count": null,
   "metadata": {},
   "outputs": [],
   "source": [
    "df_grouped_fuel_price = df.groupby('Date')['Fuel_Price'].mean().reset_index()\n",
    "\n",
    "# Plotting the data\n",
    "plt.figure(figsize=(12, 6))\n",
    "plt.plot(df_grouped_fuel_price['Date'], df_grouped_fuel_price['Fuel_Price'], marker='o', linestyle='-')\n",
    "\n",
    "# Adding titles and labels\n",
    "plt.title('Fuel Price Over Time')\n",
    "plt.xlabel('Date')\n",
    "plt.ylabel('Fuel Price')\n",
    "\n",
    "# Show plot\n",
    "plt.grid(True)\n",
    "plt.show()"
   ]
  },
  {
   "cell_type": "code",
   "execution_count": null,
   "metadata": {},
   "outputs": [],
   "source": [
    "df['CPI'].fillna(df['CPI'].median(),inplace=True)\n",
    "df['Unemployment'].fillna(df['Unemployment'].median(),inplace=True)"
   ]
  },
  {
   "cell_type": "code",
   "execution_count": null,
   "metadata": {},
   "outputs": [],
   "source": [
    "for i in range(1, 6):\n",
    "    df[\"MarkDown\" + str(i)] = df[\"MarkDown\" + str(i)].apply(lambda x: 0 if x < 0 else x)\n",
    "    df[\"MarkDown\" + str(i)].fillna(value=0, inplace=True)"
   ]
  },
  {
   "cell_type": "code",
   "execution_count": null,
   "metadata": {},
   "outputs": [],
   "source": [
    "df"
   ]
  },
  {
   "cell_type": "code",
   "execution_count": null,
   "metadata": {},
   "outputs": [],
   "source": [
    "from sklearn.preprocessing import LabelEncoder\n",
    "le = LabelEncoder()\n",
    "\n",
    "df['IsHoliday'] = le.fit_transform(df['IsHoliday'])\n",
    "df['StoreType'] = le.fit_transform(df['StoreType'])\n",
    "df"
   ]
  },
  {
   "cell_type": "code",
   "execution_count": null,
   "metadata": {},
   "outputs": [],
   "source": [
    "df['IsHoliday'].nunique()"
   ]
  },
  {
   "cell_type": "code",
   "execution_count": null,
   "metadata": {},
   "outputs": [],
   "source": [
    "df['StoreType'].nunique()"
   ]
  },
  {
   "cell_type": "code",
   "execution_count": null,
   "metadata": {},
   "outputs": [],
   "source": [
    "df_train = pd.read_csv('train.csv')\n",
    "df_train"
   ]
  },
  {
   "cell_type": "code",
   "execution_count": 438,
   "metadata": {},
   "outputs": [],
   "source": [
    "# Convert store columns to string to ensure consistency\n",
    "df['Store'] = df['Store'].astype(str)\n",
    "df_train['Store'] = df_train['Store'].astype(str)\n",
    "\n",
    "# Convert date columns to datetime if they are not already\n",
    "df['Date'] = pd.to_datetime(df['Date'])\n",
    "df_train['Date'] = pd.to_datetime(df_train['Date'])\n",
    "\n",
    "# Strip any leading/trailing spaces in the store columns\n",
    "df['Store'] = df['Store'].str.strip()\n",
    "df_train['Store'] = df_train['Store'].str.strip()\n"
   ]
  },
  {
   "cell_type": "code",
   "execution_count": null,
   "metadata": {},
   "outputs": [],
   "source": [
    "final_df = pd.merge(df, df_train, on=['Store', 'Date'], how='inner')\n",
    "final_df"
   ]
  },
  {
   "cell_type": "code",
   "execution_count": null,
   "metadata": {},
   "outputs": [],
   "source": [
    "final_df['IsHoliday_x'].isin(final_df['IsHoliday_y']).all()\n"
   ]
  },
  {
   "cell_type": "code",
   "execution_count": null,
   "metadata": {},
   "outputs": [],
   "source": [
    "agg_data = final_df.groupby(['Store', 'Dept']).Weekly_Sales.agg(['max', 'min', 'mean', 'median', 'std']).reset_index()\n",
    "agg_data.head()"
   ]
  },
  {
   "cell_type": "code",
   "execution_count": 442,
   "metadata": {},
   "outputs": [],
   "source": [
    "from sklearn.preprocessing import LabelEncoder\n",
    "le = LabelEncoder()\n",
    "\n",
    "final_df['IsHoliday_x'] = le.fit_transform(final_df['IsHoliday_x'])\n",
    "final_df['Storeype'] = le.fit_transform(final_df['StoreType'])"
   ]
  },
  {
   "cell_type": "markdown",
   "metadata": {},
   "source": [
    "Plotting Stores by Weekly Sales"
   ]
  },
  {
   "cell_type": "code",
   "execution_count": null,
   "metadata": {},
   "outputs": [],
   "source": [
    "plt.figure(figsize=(12,8))\n",
    "sns.barplot(x='Store',y='Weekly_Sales',data=final_df)\n",
    "plt.show()"
   ]
  },
  {
   "cell_type": "code",
   "execution_count": null,
   "metadata": {},
   "outputs": [],
   "source": [
    "final_df['Store'] = final_df['Store'].astype(int)\n",
    "\n",
    "# Aggregating weekly sales by stores\n",
    "total_sales = final_df.groupby('Store')['Weekly_Sales'].sum().reset_index()\n",
    "\n",
    "# Sorting stores by total weekly sales in descending order\n",
    "total_sales = total_sales.sort_values(by='Weekly_Sales', ascending=False)\n",
    "\n",
    "total_sales"
   ]
  },
  {
   "cell_type": "code",
   "execution_count": null,
   "metadata": {},
   "outputs": [],
   "source": [
    "from sklearn.linear_model import LinearRegression\n",
    "model = LinearRegression()\n",
    "model.fit(X_train, y_train)\n"
   ]
  },
  {
   "cell_type": "code",
   "execution_count": null,
   "metadata": {},
   "outputs": [],
   "source": [
    "# Optimized visualization: Randomly sample a subset of data for scatter plots\n",
    "sampled_df = final_df.sample(n=10000, random_state=42)  # Randomly sample 10,000 records\n",
    "\n",
    "# Pairplot for key features vs Weekly_Sales (sampled data)\n",
    "key_features = ['Temperature', 'Fuel_Price', 'CPI', 'Unemployment']\n",
    "sns.pairplot(sampled_df, x_vars=key_features, y_vars='Weekly_Sales', height=4, aspect=0.8, kind='reg')\n",
    "plt.suptitle('Relationships Between Key Features and Weekly Sales (Sampled Data)', y=1.02)\n",
    "plt.show()"
   ]
  },
  {
   "cell_type": "code",
   "execution_count": null,
   "metadata": {},
   "outputs": [],
   "source": [
    "# Function to plot weekly sales trend for a given store\n",
    "def plot_weekly_sales(store_id):\n",
    "    # Filter data for the selected store\n",
    "    store_data = final_df[final_df['Store'] == store_id]\n",
    "    store_data = store_data.sort_values(by='Date')  # Sort by date\n",
    "\n",
    "    # Line plot of Weekly_Sales over time\n",
    "    plt.figure(figsize=(12, 6))\n",
    "    plt.plot(store_data['Date'], store_data['Weekly_Sales'], marker='o', linestyle='-', label=f'Store {store_id}')\n",
    "    plt.title(f'Weekly Sales Trend Over Time (Store {store_id})')\n",
    "    plt.xlabel('Date')\n",
    "    plt.ylabel('Weekly Sales')\n",
    "    plt.grid()\n",
    "    plt.legend()\n",
    "    plt.tight_layout()\n",
    "    plt.show()\n",
    "\n",
    "# Plot for Store 1\n",
    "plot_weekly_sales(store_id=1)\n",
    "\n",
    "# Plot for Store 2\n",
    "plot_weekly_sales(store_id=2)\n",
    "\n",
    "# Plot for Store 3\n",
    "plot_weekly_sales(store_id=3)"
   ]
  },
  {
   "cell_type": "code",
   "execution_count": null,
   "metadata": {},
   "outputs": [],
   "source": [
    "from sklearn.model_selection import train_test_split\n",
    "from sklearn.linear_model import LinearRegression\n",
    "from sklearn.metrics import mean_squared_error, r2_score\n",
    "\n",
    "# Select the features for the model (excluding the target variable 'weekly_sales' and 'date')\n",
    "features = final_df.drop(columns=['Weekly_Sales', 'Date'])\n",
    "\n",
    "# Target variable\n",
    "target = final_df['Weekly_Sales']\n",
    "X_train, X_test, y_train, y_test = train_test_split(features, target, test_size=0.2, random_state=42)\n",
    "\n",
    "# Initialize and train the Linear Regression model\n",
    "model = LinearRegression()\n",
    "model.fit(X_train, y_train)\n",
    "y_pred = model.predict(X_test)\n",
    "# Evaluate the model\n",
    "mse = mean_squared_error(y_test, y_pred)\n",
    "r2 = r2_score(y_test, y_pred)\n",
    "print(mse)\n",
    "print(r2)"
   ]
  },
  {
   "cell_type": "markdown",
   "metadata": {},
   "source": [
    "Linear Regression does not yield good results because the data does not exhibit a linear relationship."
   ]
  },
  {
   "cell_type": "markdown",
   "metadata": {},
   "source": [
    "Random Forest Regression"
   ]
  },
  {
   "cell_type": "code",
   "execution_count": null,
   "metadata": {},
   "outputs": [],
   "source": [
    "from sklearn.linear_model import LinearRegression\n",
    "from sklearn.metrics import mean_squared_error\n",
    "from sklearn.model_selection import train_test_split\n",
    "\n",
    "# Fit linear regression model\n",
    "model = LinearRegression()\n",
    "model.fit(X_train, y_train)\n",
    "\n",
    "# Predict and evaluate\n",
    "y_pred = model.predict(X_test)\n",
    "rmse = np.sqrt(mean_squared_error(y_test, y_pred))\n",
    "print(f'RMSE: {rmse}')\n"
   ]
  },
  {
   "cell_type": "code",
   "execution_count": null,
   "metadata": {},
   "outputs": [],
   "source": [
    "import pandas as pd\n",
    "from sklearn.ensemble import RandomForestRegressor\n",
    "from sklearn.model_selection import train_test_split\n",
    "from sklearn.metrics import mean_squared_error\n",
    "\n",
    "# Load your dataset\n",
    "data = final_df\n",
    "# Preprocess and select relevant features (example)\n",
    "features = data[['CPI', 'Fuel_Price', 'Unemployment']]\n",
    "target = data['Weekly_Sales']\n",
    "\n",
    "# Split into training and testing sets\n",
    "X_train, X_test, y_train, y_test = train_test_split(features, target, test_size=0.2, random_state=42)\n",
    "\n",
    "# Initialize the model\n",
    "model = RandomForestRegressor(n_estimators=100, random_state=42)\n",
    "\n",
    "# Train the model\n",
    "model.fit(X_train, y_train)\n",
    "\n",
    "# Make predictions\n",
    "y_pred = model.predict(X_test)\n",
    "\n",
    "# Evaluate the model\n",
    "mse = mean_squared_error(y_test, y_pred)\n",
    "print(f'Mean Squared Error: {mse}')\n"
   ]
  },
  {
   "cell_type": "code",
   "execution_count": null,
   "metadata": {},
   "outputs": [],
   "source": [
    "import matplotlib.pyplot as plt\n",
    "\n",
    "# Plot actual vs predicted sales\n",
    "plt.figure(figsize=(10,6))\n",
    "plt.plot(y_test.values, label='Actual Sales')\n",
    "plt.plot(y_pred, label='Predicted Sales')\n",
    "plt.title('Random Forest Regression: Actual vs Predicted Sales')\n",
    "plt.xlabel('Index')\n",
    "plt.ylabel('Sales')\n",
    "plt.legend()\n",
    "plt.show()\n"
   ]
  }
 ],
 "metadata": {
  "kernelspec": {
   "display_name": "Python 3",
   "language": "python",
   "name": "python3"
  },
  "language_info": {
   "codemirror_mode": {
    "name": "ipython",
    "version": 3
   },
   "file_extension": ".py",
   "mimetype": "text/x-python",
   "name": "python",
   "nbconvert_exporter": "python",
   "pygments_lexer": "ipython3",
   "version": "3.12.2"
  }
 },
 "nbformat": 4,
 "nbformat_minor": 2
}
